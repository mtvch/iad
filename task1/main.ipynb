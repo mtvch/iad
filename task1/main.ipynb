{
 "cells": [
  {
   "cell_type": "code",
   "execution_count": 2,
   "metadata": {
    "collapsed": true
   },
   "outputs": [],
   "source": [
    "import pandas as pd"
   ]
  },
  {
   "cell_type": "markdown",
   "source": [
    "# Загрузим csv таблицу в Pandas DataFrame"
   ],
   "metadata": {
    "collapsed": false
   }
  },
  {
   "cell_type": "code",
   "execution_count": 4,
   "outputs": [
    {
     "name": "stdout",
     "output_type": "stream",
     "text": [
      "     STUDENT ID  1  2  3  4  5  6  7  8  9  ...  23  24  25  26  27  28  29  \\\n",
      "0      STUDENT1  2  2  3  3  1  2  2  1  1  ...   1   1   3   2   1   2   1   \n",
      "1      STUDENT2  2  2  3  3  1  2  2  1  1  ...   1   1   3   2   3   2   2   \n",
      "2      STUDENT3  2  2  2  3  2  2  2  2  4  ...   1   1   2   2   1   1   2   \n",
      "3      STUDENT4  1  1  1  3  1  2  1  2  1  ...   1   2   3   2   2   1   3   \n",
      "4      STUDENT5  2  2  1  3  2  2  1  3  1  ...   2   1   2   2   2   1   2   \n",
      "..          ... .. .. .. .. .. .. .. .. ..  ...  ..  ..  ..  ..  ..  ..  ..   \n",
      "140  STUDENT141  2  1  2  3  1  1  2  1  1  ...   1   1   2   1   2   1   3   \n",
      "141  STUDENT142  1  1  2  4  2  2  2  1  4  ...   1   1   3   2   2   1   5   \n",
      "142  STUDENT143  1  1  1  4  2  2  2  1  1  ...   1   1   3   3   2   1   4   \n",
      "143  STUDENT144  2  1  2  4  1  1  1  5  2  ...   2   1   2   1   2   1   5   \n",
      "144  STUDENT145  1  1  1  5  2  2  2  3  1  ...   2   1   3   2   3   1   5   \n",
      "\n",
      "     30  COURSE ID  GRADE  \n",
      "0     1          1      1  \n",
      "1     3          1      1  \n",
      "2     2          1      1  \n",
      "3     2          1      1  \n",
      "4     2          1      1  \n",
      "..   ..        ...    ...  \n",
      "140   3          9      5  \n",
      "141   3          9      5  \n",
      "142   3          9      1  \n",
      "143   3          9      4  \n",
      "144   4          9      3  \n",
      "\n",
      "[145 rows x 33 columns]\n"
     ]
    }
   ],
   "source": [
    "df_train = pd.read_csv('DATA.csv', delimiter=\";\")\n",
    "print(df_train)"
   ],
   "metadata": {
    "collapsed": false
   }
  },
  {
   "cell_type": "code",
   "execution_count": null,
   "outputs": [],
   "source": [
    "# TODO: Заполнить пустые ячейки мат. ожиданием по колонкам"
   ],
   "metadata": {
    "collapsed": false
   }
  },
  {
   "cell_type": "code",
   "execution_count": 8,
   "outputs": [],
   "source": [
    "from enum import Enum\n",
    "class ColumnType(Enum):\n",
    "    ABSOLUTE = 1\n",
    "    ORDER = 2\n",
    "    NAME = 3\n",
    "\n",
    "columns_types_mapping = {\n",
    "    1: ColumnType.ORDER, # Student Age (1: 18-21, 2: 22-25, 3: above 26)\n",
    "    2: ColumnType.NAME, #Sex (1: female, 2: male)\n",
    "    3: ColumnType.NAME, # Graduated high-school type: (1: private, 2: state, 3: other)\n",
    "    4: ColumnType.ORDER, # Scholarship type: (1: None, 2: 25%, 3: 50%, 4: 75%, 5: Full)\n",
    "    5: ColumnType.NAME, # Additional work: (1: Yes, 2: No)\n",
    "    6: ColumnType.NAME, # Regular artistic or sports activity: (1: Yes, 2: No)\n",
    "    7: ColumnType.NAME, # Do you have a partner: (1: Yes, 2: No)\n",
    "    8: ColumnType.ORDER, # Total salary if available (1: USD 135-200, 2: USD 201-270, 3: USD 271-340, 4: USD 341-410, 5: above 410)\n",
    "    9: ColumnType.NAME, # to the university: (1: Bus, 2: Private car/taxi, 3: bicycle, 4: Other)\n",
    "    10: ColumnType.NAME, # Accommodation type in Cyprus: (1: rental, 2: dormitory, 3: with family, 4: Other)\n",
    "    11: ColumnType.ORDER, # €™ education: (1: primary school, 2: secondary school, 3: high school, 4: university, 5: MSc., 6: Ph.D.)\n",
    "    12: ColumnType.ORDER, # Fathersâ€™ education: (1: primary school, 2: secondary school, 3: high school, 4: university, 5: MSc., 6: Ph.D.)\n",
    "    13: ColumnType.ABSOLUTE, # Number of sisters/brothers (if available): (1: 1, 2:, 2, 3: 3, 4: 4, 5: 5 or above)\n",
    "    14: ColumnType.NAME, # Parental status: (1: married, 2: divorced, 3: died - one of them or both)\n",
    "    15: ColumnType.NAME, # Mothersâ€™ occupation: (1: retired, 2: housewife, 3: government officer, 4: private sector employee, 5: self-employment, 6: other)\n",
    "    16: ColumnType.NAME, # Fathersâ€™ occupation: (1: retired, 2: government officer, 3: private sector employee, 4: self-employment, 5: other)\n",
    "    17: ColumnType.ORDER, # Weekly study hours: (1: None, 2: <5 hours, 3: 6-10 hours, 4: 11-20 hours, 5: more than 20 hours)\n",
    "    18: ColumnType.ORDER, # Reading frequency (non-scientific books/journals): (1: None, 2: Sometimes, 3: Often)\n",
    "    19: ColumnType.ORDER, # Reading frequency (scientific books/journals): (1: None, 2: Sometimes, 3: Often)\n",
    "    20: ColumnType.NAME, # Attendance to the seminars/conferences related to the department: (1: Yes, 2: No)\n",
    "    21: ColumnType.ORDER, # Impact of your projects/activities on your success: (1: positive, 2: negative, 3: neutral) (REORDER IS NEEDED)\n",
    "    22: ColumnType.ORDER, # Attendance to classes (1: always, 2: sometimes, 3: never)\n",
    "    23: ColumnType.NAME, # Preparation to midterm exams 1: (1: alone, 2: with friends, 3: not applicable)\n",
    "    24: ColumnType.ORDER, # Preparation to midterm exams 2: (1: closest date to the exam, 2: regularly during the semester, 3: never) (?)\n",
    "    25: ColumnType.ORDER, # Taking notes in classes: (1: never, 2: sometimes, 3: always)\n",
    "    26: ColumnType.ORDER, # Listening in classes: (1: never, 2: sometimes, 3: always)\n",
    "    27: ColumnType.ORDER, # Discussion improves my interest and success in the course: (1: never, 2: sometimes, 3: always)\n",
    "    28: ColumnType.NAME, # Flip-classroom: (1: not useful, 2: useful, 3: not applicable)\n",
    "    29: ColumnType.ORDER, # Cumulative grade point average in the last semester (/4.00): (1: <2.00, 2: 2.00-2.49, 3: 2.50-2.99, 4: 3.00-3.49, 5: above 3.49)\n",
    "    30: ColumnType.ORDER, # Expected Cumulative grade point average in the graduation (/4.00): (1: <2.00, 2: 2.00-2.49, 3: 2.50-2.99, 4: 3.00-3.49, 5: above 3.49)\n",
    "    \"COURSE ID\": ColumnType.NAME,\n",
    "    \"GRADE\": ColumnType.ORDER # OUTPUT Grade (0: Fail, 1: DD, 2: DC, 3: CC, 4: CB, 5: BB, 6: BA, 7: AA)\n",
    "}\n"
   ],
   "metadata": {
    "collapsed": false
   }
  },
  {
   "cell_type": "code",
   "execution_count": 9,
   "outputs": [
    {
     "data": {
      "text/plain": "{1: <ColumnType.ORDER: 2>,\n 2: <ColumnType.NAME: 3>,\n 3: <ColumnType.NAME: 3>,\n 4: <ColumnType.ORDER: 2>,\n 5: <ColumnType.NAME: 3>,\n 6: <ColumnType.NAME: 3>,\n 7: <ColumnType.NAME: 3>,\n 8: <ColumnType.ORDER: 2>,\n 9: <ColumnType.NAME: 3>,\n 10: <ColumnType.NAME: 3>,\n 11: <ColumnType.ORDER: 2>,\n 12: <ColumnType.ORDER: 2>,\n 13: <ColumnType.ABSOLUTE: 1>,\n 14: <ColumnType.NAME: 3>,\n 15: <ColumnType.NAME: 3>,\n 16: <ColumnType.NAME: 3>,\n 17: <ColumnType.ORDER: 2>,\n 18: <ColumnType.ORDER: 2>,\n 19: <ColumnType.ORDER: 2>,\n 20: <ColumnType.NAME: 3>,\n 21: <ColumnType.ORDER: 2>,\n 22: <ColumnType.ORDER: 2>,\n 23: <ColumnType.NAME: 3>,\n 24: <ColumnType.ORDER: 2>,\n 25: <ColumnType.ORDER: 2>,\n 26: <ColumnType.ORDER: 2>,\n 27: <ColumnType.ORDER: 2>,\n 28: <ColumnType.NAME: 3>,\n 29: <ColumnType.ORDER: 2>,\n 30: <ColumnType.ORDER: 2>,\n 'COURSE ID': <ColumnType.NAME: 3>,\n 'GRADE': <ColumnType.ORDER: 2>}"
     },
     "execution_count": 9,
     "metadata": {},
     "output_type": "execute_result"
    }
   ],
   "source": [
    "# TODO: Написать функции, которые вычисляют расстояния между признаками"
   ],
   "metadata": {
    "collapsed": false
   }
  }
 ],
 "metadata": {
  "kernelspec": {
   "display_name": "Python 3",
   "language": "python",
   "name": "python3"
  },
  "language_info": {
   "codemirror_mode": {
    "name": "ipython",
    "version": 2
   },
   "file_extension": ".py",
   "mimetype": "text/x-python",
   "name": "python",
   "nbconvert_exporter": "python",
   "pygments_lexer": "ipython2",
   "version": "2.7.6"
  }
 },
 "nbformat": 4,
 "nbformat_minor": 0
}
